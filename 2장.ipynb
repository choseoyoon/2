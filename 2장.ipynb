{
 "cells": [
  {
   "cell_type": "markdown",
   "id": "6eb11019",
   "metadata": {},
   "source": [
    "##퍼셉트론\n",
    "(= 인공 뉴런) 다수의 신호를 입력으로 받아 하나의 신호를 출력\n",
    " 신호: 흐른다/안 흐른다(1이나 0)\n",
    "  입력 신호가 뉴런에 보내질 때 각각 고유한 가중치가 곱해지는데\n",
    "  뉴런에서 보내온 신호의 총합이 정해진 한계(임계값)를 넘어설 때만 1을 출력한다.\n",
    " \n",
    " ##논리 회로\n",
    "  1. AND 게이트: 두 입력이 모두 1일 때만 1일 출력, 그 외에는 0 출력\n",
    "  \n",
    "  2. NAND 게이트: Not AND를 의미, 두 입력이 모두 1일 때만 0을 출력, 그 외에는 1 출력(AND 게이트의 반대)\n",
    "  \n",
    "  3. OR 게이트: 입력 신호 중 하나 이상이 1이면 1 출력"
   ]
  },
  {
   "cell_type": "code",
   "execution_count": 4,
   "id": "be4ff30e",
   "metadata": {},
   "outputs": [
    {
     "data": {
      "text/plain": [
       "1"
      ]
     },
     "execution_count": 4,
     "metadata": {},
     "output_type": "execute_result"
    }
   ],
   "source": [
    "def AND(x1, x2):\n",
    "    w1, w2, theta = 0.5, 0.5, 0.7\n",
    "    tmp = x1*w1 + x2*w2\n",
    "    if tmp <= theta:\n",
    "        return 0\n",
    "    elif tmp > theta:\n",
    "        return 1\n",
    "    \n",
    "AND(0, 0) # 0을 출력\n",
    "AND(1, 0) # 0을 출력\n",
    "AND(0, 1) # 0을 출력\n",
    "AND(1, 1) # 1을 출력"
   ]
  },
  {
   "cell_type": "code",
   "execution_count": 5,
   "id": "8f7d0a6d",
   "metadata": {},
   "outputs": [
    {
     "data": {
      "text/plain": [
       "array([0. , 0.5])"
      ]
     },
     "execution_count": 5,
     "metadata": {},
     "output_type": "execute_result"
    }
   ],
   "source": [
    "import numpy as np\n",
    "x = np.array([0, 1]) #입력\n",
    "w = np.array([0.5, 0.5]) #가중치\n",
    "b = -0.7 #편향\n",
    "w*x"
   ]
  },
  {
   "cell_type": "code",
   "execution_count": 6,
   "id": "b2172686",
   "metadata": {},
   "outputs": [
    {
     "data": {
      "text/plain": [
       "0.5"
      ]
     },
     "execution_count": 6,
     "metadata": {},
     "output_type": "execute_result"
    }
   ],
   "source": [
    "np.sum(w*x)"
   ]
  },
  {
   "cell_type": "code",
   "execution_count": 7,
   "id": "6146f5d0",
   "metadata": {},
   "outputs": [
    {
     "data": {
      "text/plain": [
       "-0.19999999999999996"
      ]
     },
     "execution_count": 7,
     "metadata": {},
     "output_type": "execute_result"
    }
   ],
   "source": [
    "np.sum(w*x) + b #대략 -0.2 (부동소수점 수에 의한 연산 오차)"
   ]
  },
  {
   "cell_type": "code",
   "execution_count": 8,
   "id": "a1264cce",
   "metadata": {},
   "outputs": [],
   "source": [
    "def AND(x1, x2):\n",
    "    x = np.array([x1, x2])\n",
    "    w = np.array([0.5, 0.5])\n",
    "    b = -0.7\n",
    "    tmp = np.sum(w*x) + b\n",
    "    if tmp <= 0:\n",
    "        return 0\n",
    "    else:\n",
    "        return 1"
   ]
  },
  {
   "cell_type": "code",
   "execution_count": 9,
   "id": "b69f1962",
   "metadata": {},
   "outputs": [],
   "source": [
    "def NAND(x1, x2):\n",
    "    x = np.array([x1, x2])\n",
    "    w = np.array([-0.5, -0.5]) # AND와는 가중치(W와 b)만 다르다\n",
    "    b = 0.7\n",
    "    tmp = np.sum(w*x) + b\n",
    "    if tmp <= 0:\n",
    "        return 0\n",
    "    else:\n",
    "        return 1\n",
    "    \n",
    "def OR(x1, x2):\n",
    "    x = np.array([x1, x2])\n",
    "    w = np.array([0.5, 0.5]) # AND와는 가중치(W와 b)만 다르다\n",
    "    b = -0.2\n",
    "    tmp = np.sum(w*x) + b\n",
    "    if tmp <= 0:\n",
    "        return 0\n",
    "    else:\n",
    "        return 1"
   ]
  },
  {
   "cell_type": "markdown",
   "id": "36b26e34",
   "metadata": {},
   "source": [
    "     4. XOR 게이트: (= 배타적 논리합) 두 입력 중 한쪽이 1일 때만 1일 출력합니다\n",
    "     퍼셉트론은 직선 하나로 나눈 영역만 표현할 수 있다는 한계 존재 -> 곡선으로 표현해야하는 경우가 생김\n",
    "          비선형 영역: 곡선의 영역\n",
    "          선형 영역: 직선의 영역\n",
    "      퍼셉트론으론 XOR 게이트 표현X -> 다층 퍼셉트론, 즉 앞에서 배웠던 게이트들을 융합하자!\n",
    "          XOR 게이트 = AND 게이트 + NAND 게이트 + OR 게이트"
   ]
  },
  {
   "cell_type": "code",
   "execution_count": 10,
   "id": "bba0da12",
   "metadata": {},
   "outputs": [
    {
     "data": {
      "text/plain": [
       "0"
      ]
     },
     "execution_count": 10,
     "metadata": {},
     "output_type": "execute_result"
    }
   ],
   "source": [
    "def XOR(x1, x2):\n",
    "    s1 = NAND(x1, x2)\n",
    "    s2 = OR(x1, x2)\n",
    "    y = AND(s1, s2)\n",
    "    return y\n",
    "\n",
    "XOR(0, 0) #0을 출력\n",
    "XOR(1, 0) #1을 출력\n",
    "XOR(0, 1) #1을 출력\n",
    "XOR(1, 1) #1을 출력"
   ]
  },
  {
   "cell_type": "markdown",
   "id": "81eb09d4",
   "metadata": {},
   "source": [
    "2층 퍼셉트론의 경우\n",
    " 1. 0층의 두 뉴런이 입력 신호를 받아 1층의 뉴런으로 신호를 보낸다.(부품을 다듬는 일)\n",
    " 2. 1층의 뉴런이 2층의 뉴런으로 신호를 보내고, 2층의 뉴런은 y를 출력한다.(부품을 완선품으로 만들어 출하함.)\n",
    "  ㄴ> XOR 게이트 퍼셉트론에서는 작업자들 사이에서 부품을 전달하는 일이 이뤄진다.\n",
    "  \n",
    " *다층 퍼셉트론은 단층 퍼셉트론이 표현하지 못한 것을 구현할 수 있고 더 다양한 것을 표현할 수 있다*"
   ]
  },
  {
   "cell_type": "code",
   "execution_count": null,
   "id": "c2315c5d",
   "metadata": {},
   "outputs": [],
   "source": []
  }
 ],
 "metadata": {
  "kernelspec": {
   "display_name": "Python 3 (ipykernel)",
   "language": "python",
   "name": "python3"
  },
  "language_info": {
   "codemirror_mode": {
    "name": "ipython",
    "version": 3
   },
   "file_extension": ".py",
   "mimetype": "text/x-python",
   "name": "python",
   "nbconvert_exporter": "python",
   "pygments_lexer": "ipython3",
   "version": "3.9.12"
  }
 },
 "nbformat": 4,
 "nbformat_minor": 5
}
